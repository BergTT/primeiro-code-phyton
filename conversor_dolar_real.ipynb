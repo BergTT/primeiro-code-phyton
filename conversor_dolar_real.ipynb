{
  "cells": [
    {
      "cell_type": "markdown",
      "metadata": {
        "id": "view-in-github",
        "colab_type": "text"
      },
      "source": [
        "<a href=\"https://colab.research.google.com/github/BergTT/primeiro-code-phyton/blob/main/conversor_dolar_real.ipynb\" target=\"_parent\"><img src=\"https://colab.research.google.com/assets/colab-badge.svg\" alt=\"Open In Colab\"/></a>"
      ]
    },
    {
      "cell_type": "code",
      "execution_count": null,
      "metadata": {
        "id": "zwFnJsE6vjf8",
        "colab": {
          "base_uri": "https://localhost:8080/"
        },
        "outputId": "afbac07a-1527-4b35-a37c-7005fb968f73"
      },
      "outputs": [
        {
          "output_type": "stream",
          "name": "stdout",
          "text": [
            "Se você quer converter de Real para Dólar, digite 1. Ou...\n",
            "Se você quer converter de Dólar para Real, digite 2.\n",
            "Escolha a opção: 1\n",
            "Qual a cotação do Dólar hoje: 5\n",
            "\n",
            "Olá! Vamos converter os seus Reais para Dólar.\n",
            "Digite quantos Reais você deseja converter: 100\n",
            "\n",
            " 100.0  em Reais equivale a  20.0  em Dólares.\n",
            "\n"
          ]
        }
      ],
      "source": [
        "\n",
        "quantDolar, quantReal, cotacaoDolar = 0.0, 0.0, 0.0\n",
        "opcao = 0\n",
        "\n",
        "print(\"Se você quer converter de Real para Dólar, digite 1. Ou...\\nSe você quer converter de Dólar para Real, digite 2.\")\n",
        "opcao = int(input(\"Escolha a opção: \"))\n",
        "\n",
        "cotacaoDolar = float(input(\"Qual a cotação do Dólar hoje: \"))\n",
        "\n",
        "if opcao == 1:\n",
        "        print(\"\\nOlá! Vamos converter os seus Reais para Dólar.\")\n",
        "        quantReal = float(input(\"Digite quantos Reais você deseja converter: \"))\n",
        "        quantDolar = quantReal / cotacaoDolar\n",
        "        print(\"\\n\", quantReal,\" em Reais equivale a \", quantDolar,\" em Dólares.\\n\")\n",
        "elif opcao == 2:\n",
        "        print(\"\\nOlá! Vamos converter os seus Dólares para Reais.\")\n",
        "        quantDolar = float(input(\"Digite quantos Dólares você deseja converter: \"))\n",
        "        quantReal = quantDolar * cotacaoDolar\n",
        "        print(\"\\n\", quantDolar,\" em Dólares equivale a \", quantReal,\" em Reais.\\n\")\n",
        "\n",
        "\n"
      ]
    }
  ],
  "metadata": {
    "colab": {
      "provenance": [],
      "include_colab_link": true
    },
    "kernelspec": {
      "display_name": "Python 3",
      "name": "python3"
    }
  },
  "nbformat": 4,
  "nbformat_minor": 0
}